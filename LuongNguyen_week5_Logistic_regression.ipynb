{
  "nbformat": 4,
  "nbformat_minor": 0,
  "metadata": {
    "colab": {
      "name": "LuongNguyen-week5-Logistic-regression.ipynb",
      "version": "0.3.2",
      "provenance": [],
      "collapsed_sections": [],
      "toc_visible": true
    },
    "kernelspec": {
      "name": "python3",
      "display_name": "Python 3"
    }
  },
  "cells": [
    {
      "metadata": {
        "id": "GzNttPxwXK8i",
        "colab_type": "text"
      },
      "cell_type": "markdown",
      "source": [
        "**Name:** Luong Nguyen  \n",
        "**Student ID:** 1504210\n",
        "<h3>Cognitive Systems Mathematics and Methods  \n",
        "Assignment 5: Vertebral abnormality</h3>\n",
        "<hr>\n",
        "\n"
      ]
    },
    {
      "metadata": {
        "id": "Inx1VTATXrQN",
        "colab_type": "code",
        "colab": {}
      },
      "cell_type": "code",
      "source": [
        "# import required libraries\n",
        "import pandas as pd\n",
        "import pylab as pl\n",
        "import numpy as np\n",
        "import scipy.optimize as opt\n",
        "from sklearn import preprocessing\n",
        "%matplotlib inline \n",
        "import matplotlib.pyplot as plt"
      ],
      "execution_count": 0,
      "outputs": []
    },
    {
      "metadata": {
        "id": "gMcERqcBYMC6",
        "colab_type": "text"
      },
      "cell_type": "markdown",
      "source": [
        "## Data preparation"
      ]
    },
    {
      "metadata": {
        "id": "fcsHhjs1hwC3",
        "colab_type": "text"
      },
      "cell_type": "markdown",
      "source": [
        "### Import data"
      ]
    },
    {
      "metadata": {
        "id": "3JmFRa9GZaf8",
        "colab_type": "code",
        "colab": {
          "base_uri": "https://localhost:8080/",
          "height": 204
        },
        "outputId": "4760d968-ca77-4fdb-ab99-ec3a2a65e4d3"
      },
      "cell_type": "code",
      "source": [
        "# download data\n",
        "!wget -O data.zip http://archive.ics.uci.edu/ml/machine-learning-databases/00212/vertebral_column_data.zip"
      ],
      "execution_count": 2,
      "outputs": [
        {
          "output_type": "stream",
          "text": [
            "--2019-02-24 22:22:26--  http://archive.ics.uci.edu/ml/machine-learning-databases/00212/vertebral_column_data.zip\n",
            "Resolving archive.ics.uci.edu (archive.ics.uci.edu)... 128.195.10.249\n",
            "Connecting to archive.ics.uci.edu (archive.ics.uci.edu)|128.195.10.249|:80... connected.\n",
            "HTTP request sent, awaiting response... 200 OK\n",
            "Length: 33251 (32K) [application/zip]\n",
            "Saving to: ‘data.zip’\n",
            "\n",
            "\rdata.zip              0%[                    ]       0  --.-KB/s               \rdata.zip            100%[===================>]  32.47K  --.-KB/s    in 0.06s   \n",
            "\n",
            "2019-02-24 22:22:27 (512 KB/s) - ‘data.zip’ saved [33251/33251]\n",
            "\n"
          ],
          "name": "stdout"
        }
      ]
    },
    {
      "metadata": {
        "id": "G5Fy0Lt5aPcc",
        "colab_type": "code",
        "colab": {
          "base_uri": "https://localhost:8080/",
          "height": 102
        },
        "outputId": "f3b54e2c-3254-4a1f-a91b-e390456abc63"
      },
      "cell_type": "code",
      "source": [
        "# extract zip file\n",
        "!unzip data.zip"
      ],
      "execution_count": 3,
      "outputs": [
        {
          "output_type": "stream",
          "text": [
            "Archive:  data.zip\n",
            "  inflating: column_2C.dat           \n",
            "  inflating: column_2C_weka.arff     \n",
            "  inflating: column_3C.dat           \n",
            "  inflating: column_3C_weka.arff     \n"
          ],
          "name": "stdout"
        }
      ]
    },
    {
      "metadata": {
        "id": "XPyq3q_gaw_H",
        "colab_type": "code",
        "colab": {
          "base_uri": "https://localhost:8080/",
          "height": 266
        },
        "outputId": "9f31c731-9fab-460e-c15c-94e0380acdca"
      },
      "cell_type": "code",
      "source": [
        "# load data from arff file\n",
        "from scipy.io import arff\n",
        "\n",
        "df = arff.loadarff('column_2C_weka.arff')\n",
        "df = pd.DataFrame(df[0])\n",
        "\n",
        "df.head().transpose()"
      ],
      "execution_count": 4,
      "outputs": [
        {
          "output_type": "execute_result",
          "data": {
            "text/html": [
              "<div>\n",
              "<style scoped>\n",
              "    .dataframe tbody tr th:only-of-type {\n",
              "        vertical-align: middle;\n",
              "    }\n",
              "\n",
              "    .dataframe tbody tr th {\n",
              "        vertical-align: top;\n",
              "    }\n",
              "\n",
              "    .dataframe thead th {\n",
              "        text-align: right;\n",
              "    }\n",
              "</style>\n",
              "<table border=\"1\" class=\"dataframe\">\n",
              "  <thead>\n",
              "    <tr style=\"text-align: right;\">\n",
              "      <th></th>\n",
              "      <th>0</th>\n",
              "      <th>1</th>\n",
              "      <th>2</th>\n",
              "      <th>3</th>\n",
              "      <th>4</th>\n",
              "    </tr>\n",
              "  </thead>\n",
              "  <tbody>\n",
              "    <tr>\n",
              "      <th>pelvic_incidence</th>\n",
              "      <td>63.0278</td>\n",
              "      <td>39.057</td>\n",
              "      <td>68.832</td>\n",
              "      <td>69.297</td>\n",
              "      <td>49.7129</td>\n",
              "    </tr>\n",
              "    <tr>\n",
              "      <th>pelvic_tilt</th>\n",
              "      <td>22.5526</td>\n",
              "      <td>10.061</td>\n",
              "      <td>22.2185</td>\n",
              "      <td>24.6529</td>\n",
              "      <td>9.65207</td>\n",
              "    </tr>\n",
              "    <tr>\n",
              "      <th>lumbar_lordosis_angle</th>\n",
              "      <td>39.6091</td>\n",
              "      <td>25.0154</td>\n",
              "      <td>50.0922</td>\n",
              "      <td>44.3112</td>\n",
              "      <td>28.3174</td>\n",
              "    </tr>\n",
              "    <tr>\n",
              "      <th>sacral_slope</th>\n",
              "      <td>40.4752</td>\n",
              "      <td>28.996</td>\n",
              "      <td>46.6135</td>\n",
              "      <td>44.6441</td>\n",
              "      <td>40.0608</td>\n",
              "    </tr>\n",
              "    <tr>\n",
              "      <th>pelvic_radius</th>\n",
              "      <td>98.6729</td>\n",
              "      <td>114.405</td>\n",
              "      <td>105.985</td>\n",
              "      <td>101.868</td>\n",
              "      <td>108.169</td>\n",
              "    </tr>\n",
              "    <tr>\n",
              "      <th>degree_spondylolisthesis</th>\n",
              "      <td>-0.2544</td>\n",
              "      <td>4.56426</td>\n",
              "      <td>-3.53032</td>\n",
              "      <td>11.2115</td>\n",
              "      <td>7.9185</td>\n",
              "    </tr>\n",
              "    <tr>\n",
              "      <th>class</th>\n",
              "      <td>b'Abnormal'</td>\n",
              "      <td>b'Abnormal'</td>\n",
              "      <td>b'Abnormal'</td>\n",
              "      <td>b'Abnormal'</td>\n",
              "      <td>b'Abnormal'</td>\n",
              "    </tr>\n",
              "  </tbody>\n",
              "</table>\n",
              "</div>"
            ],
            "text/plain": [
              "                                    0            1            2            3  \\\n",
              "pelvic_incidence              63.0278       39.057       68.832       69.297   \n",
              "pelvic_tilt                   22.5526       10.061      22.2185      24.6529   \n",
              "lumbar_lordosis_angle         39.6091      25.0154      50.0922      44.3112   \n",
              "sacral_slope                  40.4752       28.996      46.6135      44.6441   \n",
              "pelvic_radius                 98.6729      114.405      105.985      101.868   \n",
              "degree_spondylolisthesis      -0.2544      4.56426     -3.53032      11.2115   \n",
              "class                     b'Abnormal'  b'Abnormal'  b'Abnormal'  b'Abnormal'   \n",
              "\n",
              "                                    4  \n",
              "pelvic_incidence              49.7129  \n",
              "pelvic_tilt                   9.65207  \n",
              "lumbar_lordosis_angle         28.3174  \n",
              "sacral_slope                  40.0608  \n",
              "pelvic_radius                 108.169  \n",
              "degree_spondylolisthesis       7.9185  \n",
              "class                     b'Abnormal'  "
            ]
          },
          "metadata": {
            "tags": []
          },
          "execution_count": 4
        }
      ]
    },
    {
      "metadata": {
        "id": "oghBWtVSht5N",
        "colab_type": "text"
      },
      "cell_type": "markdown",
      "source": [
        "### Preprocess data"
      ]
    },
    {
      "metadata": {
        "id": "FFe4nbtVeA5E",
        "colab_type": "code",
        "colab": {
          "base_uri": "https://localhost:8080/",
          "height": 204
        },
        "outputId": "8b34afe7-b5a0-4b8f-9dda-f0b4ff6dc372"
      },
      "cell_type": "code",
      "source": [
        "# re-encode class column\n",
        "df['class'].replace([b'Normal', b'Abnormal'], [0,1], inplace=True)\n",
        "df['class'] = df['class'].astype('int')\n",
        "\n",
        "df.head()"
      ],
      "execution_count": 5,
      "outputs": [
        {
          "output_type": "execute_result",
          "data": {
            "text/html": [
              "<div>\n",
              "<style scoped>\n",
              "    .dataframe tbody tr th:only-of-type {\n",
              "        vertical-align: middle;\n",
              "    }\n",
              "\n",
              "    .dataframe tbody tr th {\n",
              "        vertical-align: top;\n",
              "    }\n",
              "\n",
              "    .dataframe thead th {\n",
              "        text-align: right;\n",
              "    }\n",
              "</style>\n",
              "<table border=\"1\" class=\"dataframe\">\n",
              "  <thead>\n",
              "    <tr style=\"text-align: right;\">\n",
              "      <th></th>\n",
              "      <th>pelvic_incidence</th>\n",
              "      <th>pelvic_tilt</th>\n",
              "      <th>lumbar_lordosis_angle</th>\n",
              "      <th>sacral_slope</th>\n",
              "      <th>pelvic_radius</th>\n",
              "      <th>degree_spondylolisthesis</th>\n",
              "      <th>class</th>\n",
              "    </tr>\n",
              "  </thead>\n",
              "  <tbody>\n",
              "    <tr>\n",
              "      <th>0</th>\n",
              "      <td>63.027817</td>\n",
              "      <td>22.552586</td>\n",
              "      <td>39.609117</td>\n",
              "      <td>40.475232</td>\n",
              "      <td>98.672917</td>\n",
              "      <td>-0.254400</td>\n",
              "      <td>1</td>\n",
              "    </tr>\n",
              "    <tr>\n",
              "      <th>1</th>\n",
              "      <td>39.056951</td>\n",
              "      <td>10.060991</td>\n",
              "      <td>25.015378</td>\n",
              "      <td>28.995960</td>\n",
              "      <td>114.405425</td>\n",
              "      <td>4.564259</td>\n",
              "      <td>1</td>\n",
              "    </tr>\n",
              "    <tr>\n",
              "      <th>2</th>\n",
              "      <td>68.832021</td>\n",
              "      <td>22.218482</td>\n",
              "      <td>50.092194</td>\n",
              "      <td>46.613539</td>\n",
              "      <td>105.985135</td>\n",
              "      <td>-3.530317</td>\n",
              "      <td>1</td>\n",
              "    </tr>\n",
              "    <tr>\n",
              "      <th>3</th>\n",
              "      <td>69.297008</td>\n",
              "      <td>24.652878</td>\n",
              "      <td>44.311238</td>\n",
              "      <td>44.644130</td>\n",
              "      <td>101.868495</td>\n",
              "      <td>11.211523</td>\n",
              "      <td>1</td>\n",
              "    </tr>\n",
              "    <tr>\n",
              "      <th>4</th>\n",
              "      <td>49.712859</td>\n",
              "      <td>9.652075</td>\n",
              "      <td>28.317406</td>\n",
              "      <td>40.060784</td>\n",
              "      <td>108.168725</td>\n",
              "      <td>7.918501</td>\n",
              "      <td>1</td>\n",
              "    </tr>\n",
              "  </tbody>\n",
              "</table>\n",
              "</div>"
            ],
            "text/plain": [
              "   pelvic_incidence  pelvic_tilt  lumbar_lordosis_angle  sacral_slope  \\\n",
              "0         63.027817    22.552586              39.609117     40.475232   \n",
              "1         39.056951    10.060991              25.015378     28.995960   \n",
              "2         68.832021    22.218482              50.092194     46.613539   \n",
              "3         69.297008    24.652878              44.311238     44.644130   \n",
              "4         49.712859     9.652075              28.317406     40.060784   \n",
              "\n",
              "   pelvic_radius  degree_spondylolisthesis  class  \n",
              "0      98.672917                 -0.254400      1  \n",
              "1     114.405425                  4.564259      1  \n",
              "2     105.985135                 -3.530317      1  \n",
              "3     101.868495                 11.211523      1  \n",
              "4     108.168725                  7.918501      1  "
            ]
          },
          "metadata": {
            "tags": []
          },
          "execution_count": 5
        }
      ]
    },
    {
      "metadata": {
        "id": "OuxPSbglf74k",
        "colab_type": "code",
        "colab": {
          "base_uri": "https://localhost:8080/",
          "height": 221
        },
        "outputId": "4b2eaa6b-31be-472b-b7de-044be17f8f50"
      },
      "cell_type": "code",
      "source": [
        "# define X, y\n",
        "X, y = df.drop(columns=['class']), df['class']\n",
        "print('X: feature matrix')\n",
        "X.head()\n"
      ],
      "execution_count": 6,
      "outputs": [
        {
          "output_type": "stream",
          "text": [
            "X: feature matrix\n"
          ],
          "name": "stdout"
        },
        {
          "output_type": "execute_result",
          "data": {
            "text/html": [
              "<div>\n",
              "<style scoped>\n",
              "    .dataframe tbody tr th:only-of-type {\n",
              "        vertical-align: middle;\n",
              "    }\n",
              "\n",
              "    .dataframe tbody tr th {\n",
              "        vertical-align: top;\n",
              "    }\n",
              "\n",
              "    .dataframe thead th {\n",
              "        text-align: right;\n",
              "    }\n",
              "</style>\n",
              "<table border=\"1\" class=\"dataframe\">\n",
              "  <thead>\n",
              "    <tr style=\"text-align: right;\">\n",
              "      <th></th>\n",
              "      <th>pelvic_incidence</th>\n",
              "      <th>pelvic_tilt</th>\n",
              "      <th>lumbar_lordosis_angle</th>\n",
              "      <th>sacral_slope</th>\n",
              "      <th>pelvic_radius</th>\n",
              "      <th>degree_spondylolisthesis</th>\n",
              "    </tr>\n",
              "  </thead>\n",
              "  <tbody>\n",
              "    <tr>\n",
              "      <th>0</th>\n",
              "      <td>63.027817</td>\n",
              "      <td>22.552586</td>\n",
              "      <td>39.609117</td>\n",
              "      <td>40.475232</td>\n",
              "      <td>98.672917</td>\n",
              "      <td>-0.254400</td>\n",
              "    </tr>\n",
              "    <tr>\n",
              "      <th>1</th>\n",
              "      <td>39.056951</td>\n",
              "      <td>10.060991</td>\n",
              "      <td>25.015378</td>\n",
              "      <td>28.995960</td>\n",
              "      <td>114.405425</td>\n",
              "      <td>4.564259</td>\n",
              "    </tr>\n",
              "    <tr>\n",
              "      <th>2</th>\n",
              "      <td>68.832021</td>\n",
              "      <td>22.218482</td>\n",
              "      <td>50.092194</td>\n",
              "      <td>46.613539</td>\n",
              "      <td>105.985135</td>\n",
              "      <td>-3.530317</td>\n",
              "    </tr>\n",
              "    <tr>\n",
              "      <th>3</th>\n",
              "      <td>69.297008</td>\n",
              "      <td>24.652878</td>\n",
              "      <td>44.311238</td>\n",
              "      <td>44.644130</td>\n",
              "      <td>101.868495</td>\n",
              "      <td>11.211523</td>\n",
              "    </tr>\n",
              "    <tr>\n",
              "      <th>4</th>\n",
              "      <td>49.712859</td>\n",
              "      <td>9.652075</td>\n",
              "      <td>28.317406</td>\n",
              "      <td>40.060784</td>\n",
              "      <td>108.168725</td>\n",
              "      <td>7.918501</td>\n",
              "    </tr>\n",
              "  </tbody>\n",
              "</table>\n",
              "</div>"
            ],
            "text/plain": [
              "   pelvic_incidence  pelvic_tilt  lumbar_lordosis_angle  sacral_slope  \\\n",
              "0         63.027817    22.552586              39.609117     40.475232   \n",
              "1         39.056951    10.060991              25.015378     28.995960   \n",
              "2         68.832021    22.218482              50.092194     46.613539   \n",
              "3         69.297008    24.652878              44.311238     44.644130   \n",
              "4         49.712859     9.652075              28.317406     40.060784   \n",
              "\n",
              "   pelvic_radius  degree_spondylolisthesis  \n",
              "0      98.672917                 -0.254400  \n",
              "1     114.405425                  4.564259  \n",
              "2     105.985135                 -3.530317  \n",
              "3     101.868495                 11.211523  \n",
              "4     108.168725                  7.918501  "
            ]
          },
          "metadata": {
            "tags": []
          },
          "execution_count": 6
        }
      ]
    },
    {
      "metadata": {
        "id": "J5d2rks9g2DE",
        "colab_type": "code",
        "colab": {
          "base_uri": "https://localhost:8080/",
          "height": 153
        },
        "outputId": "8951c9be-43d3-4f10-a53f-1887f5121cf7"
      },
      "cell_type": "code",
      "source": [
        "print('\\ny: target vector')\n",
        "y.head()"
      ],
      "execution_count": 7,
      "outputs": [
        {
          "output_type": "stream",
          "text": [
            "\n",
            "y: target vector\n"
          ],
          "name": "stdout"
        },
        {
          "output_type": "execute_result",
          "data": {
            "text/plain": [
              "0    1\n",
              "1    1\n",
              "2    1\n",
              "3    1\n",
              "4    1\n",
              "Name: class, dtype: int64"
            ]
          },
          "metadata": {
            "tags": []
          },
          "execution_count": 7
        }
      ]
    },
    {
      "metadata": {
        "id": "HzQJkmstg9bD",
        "colab_type": "code",
        "colab": {
          "base_uri": "https://localhost:8080/",
          "height": 187
        },
        "outputId": "400a2383-c72d-4933-da95-92b1bdec0f0a"
      },
      "cell_type": "code",
      "source": [
        "# normalize data\n",
        "X = preprocessing.StandardScaler().fit(X).transform(X)\n",
        "X[0:5]"
      ],
      "execution_count": 8,
      "outputs": [
        {
          "output_type": "execute_result",
          "data": {
            "text/plain": [
              "array([[ 0.14708636,  0.50136873, -0.6651769 , -0.18495031, -1.4476468 ,\n",
              "        -0.70805942],\n",
              "       [-1.24586434, -0.74876898, -1.45300075, -1.0415207 , -0.26438488,\n",
              "        -0.57955637],\n",
              "       [ 0.4843695 ,  0.46793218, -0.09926175,  0.2730833 , -0.89768556,\n",
              "        -0.79542095],\n",
              "       [ 0.51138997,  0.71156241, -0.41133905,  0.12612823, -1.2073033 ,\n",
              "        -0.40228841],\n",
              "       [-0.62664788, -0.78969266, -1.27474511, -0.21587588, -0.73345503,\n",
              "        -0.4901061 ]])"
            ]
          },
          "metadata": {
            "tags": []
          },
          "execution_count": 8
        }
      ]
    },
    {
      "metadata": {
        "id": "8dblY3BohYH_",
        "colab_type": "code",
        "colab": {
          "base_uri": "https://localhost:8080/",
          "height": 51
        },
        "outputId": "5446f14e-8544-4e82-9a6f-5beb0b083530"
      },
      "cell_type": "code",
      "source": [
        "# train/test split\n",
        "from sklearn.model_selection import train_test_split\n",
        "X_train, X_test, y_train, y_test = train_test_split( X, y, test_size=0.2, random_state=4)\n",
        "print('Train set:', X_train.shape,  y_train.shape)\n",
        "print('Test set:', X_test.shape,  y_test.shape)"
      ],
      "execution_count": 9,
      "outputs": [
        {
          "output_type": "stream",
          "text": [
            "Train set: (248, 6) (248,)\n",
            "Test set: (62, 6) (62,)\n"
          ],
          "name": "stdout"
        }
      ]
    },
    {
      "metadata": {
        "id": "OhKpjHL6Y1IF",
        "colab_type": "text"
      },
      "cell_type": "markdown",
      "source": [
        "## Modelling"
      ]
    },
    {
      "metadata": {
        "id": "2XGQEb5RYt_f",
        "colab_type": "code",
        "colab": {
          "base_uri": "https://localhost:8080/",
          "height": 85
        },
        "outputId": "97aaaf6f-456c-4255-d1db-ff1a691e68ad"
      },
      "cell_type": "code",
      "source": [
        "from sklearn.linear_model import LogisticRegression\n",
        "\n",
        "LR = LogisticRegression(solver='liblinear').fit(X_train,y_train)\n",
        "LR"
      ],
      "execution_count": 10,
      "outputs": [
        {
          "output_type": "execute_result",
          "data": {
            "text/plain": [
              "LogisticRegression(C=1.0, class_weight=None, dual=False, fit_intercept=True,\n",
              "          intercept_scaling=1, max_iter=100, multi_class='warn',\n",
              "          n_jobs=None, penalty='l2', random_state=None, solver='liblinear',\n",
              "          tol=0.0001, verbose=0, warm_start=False)"
            ]
          },
          "metadata": {
            "tags": []
          },
          "execution_count": 10
        }
      ]
    },
    {
      "metadata": {
        "id": "dyOvZHIyi0j5",
        "colab_type": "code",
        "colab": {
          "base_uri": "https://localhost:8080/",
          "height": 34
        },
        "outputId": "d98f2090-b05a-48d6-f5ca-b5066f75f647"
      },
      "cell_type": "code",
      "source": [
        "yhat = LR.predict(X_test)\n",
        "yhat[:10]"
      ],
      "execution_count": 11,
      "outputs": [
        {
          "output_type": "execute_result",
          "data": {
            "text/plain": [
              "array([1, 0, 1, 0, 1, 0, 1, 1, 1, 1])"
            ]
          },
          "metadata": {
            "tags": []
          },
          "execution_count": 11
        }
      ]
    },
    {
      "metadata": {
        "id": "PLwXvC9JY29K",
        "colab_type": "text"
      },
      "cell_type": "markdown",
      "source": [
        "## Evaluation"
      ]
    },
    {
      "metadata": {
        "id": "4Oorrs2ojbfx",
        "colab_type": "text"
      },
      "cell_type": "markdown",
      "source": [
        "### jaccard index"
      ]
    },
    {
      "metadata": {
        "id": "tZ_Q2qpAY4Hk",
        "colab_type": "code",
        "colab": {
          "base_uri": "https://localhost:8080/",
          "height": 34
        },
        "outputId": "b0bc3ca4-a7a2-482e-95f2-6b62d5d06c91"
      },
      "cell_type": "code",
      "source": [
        "# size of the intersection divided by the size of the union of two label sets\n",
        "from sklearn.metrics import jaccard_similarity_score\n",
        "jaccard_similarity_score(y_test, yhat)"
      ],
      "execution_count": 12,
      "outputs": [
        {
          "output_type": "execute_result",
          "data": {
            "text/plain": [
              "0.8548387096774194"
            ]
          },
          "metadata": {
            "tags": []
          },
          "execution_count": 12
        }
      ]
    },
    {
      "metadata": {
        "id": "KzdPOIKxkdLE",
        "colab_type": "text"
      },
      "cell_type": "markdown",
      "source": [
        "### confusion matrix"
      ]
    },
    {
      "metadata": {
        "id": "a3lXu1Uwi7he",
        "colab_type": "code",
        "colab": {
          "base_uri": "https://localhost:8080/",
          "height": 204
        },
        "outputId": "9e86ea31-50d5-43cb-b803-dffde4c8e7a0"
      },
      "cell_type": "code",
      "source": [
        "from sklearn.metrics import classification_report, confusion_matrix\n",
        "\n",
        "print(confusion_matrix(y_test, yhat, labels=[1,0]))\n",
        "print(classification_report(y_test, yhat))"
      ],
      "execution_count": 13,
      "outputs": [
        {
          "output_type": "stream",
          "text": [
            "[[37  4]\n",
            " [ 5 16]]\n",
            "              precision    recall  f1-score   support\n",
            "\n",
            "           0       0.80      0.76      0.78        21\n",
            "           1       0.88      0.90      0.89        41\n",
            "\n",
            "   micro avg       0.85      0.85      0.85        62\n",
            "   macro avg       0.84      0.83      0.84        62\n",
            "weighted avg       0.85      0.85      0.85        62\n",
            "\n"
          ],
          "name": "stdout"
        }
      ]
    },
    {
      "metadata": {
        "id": "oeWobIZbly6H",
        "colab_type": "text"
      },
      "cell_type": "markdown",
      "source": [
        "`the average accuracy for this classifier (the average of the f1-score for both labels) is 0.85`"
      ]
    }
  ]
}