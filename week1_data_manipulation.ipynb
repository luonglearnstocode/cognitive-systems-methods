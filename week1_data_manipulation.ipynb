{
  "nbformat": 4,
  "nbformat_minor": 0,
  "metadata": {
    "colab": {
      "name": "week1-data-manipulation.ipynb",
      "version": "0.3.2",
      "provenance": [],
      "collapsed_sections": []
    },
    "kernelspec": {
      "name": "python3",
      "display_name": "Python 3"
    }
  },
  "cells": [
    {
      "metadata": {
        "id": "M_cEhats-1Pb",
        "colab_type": "text"
      },
      "cell_type": "markdown",
      "source": [
        "Name: Luong Nguyen  \n",
        "Student ID: 1504210  \n",
        "**Cognitive Systems Mathematics and Methods**  \n",
        "**Assignment 1: Data manipulation  **\n",
        "<hr>"
      ]
    },
    {
      "metadata": {
        "id": "-oc8sdss_rwK",
        "colab_type": "text"
      },
      "cell_type": "markdown",
      "source": [
        "# 1."
      ]
    },
    {
      "metadata": {
        "id": "_-dIDuAG-giD",
        "colab_type": "code",
        "colab": {
          "base_uri": "https://localhost:8080/",
          "height": 85
        },
        "outputId": "0471e6de-2f52-4778-ee75-10227b811ab7"
      },
      "cell_type": "code",
      "source": [
        "import pandas as pd\n",
        "data = pd.Series([5, 2, 7])\n",
        "print(data)"
      ],
      "execution_count": 1,
      "outputs": [
        {
          "output_type": "stream",
          "text": [
            "0    5\n",
            "1    2\n",
            "2    7\n",
            "dtype: int64\n"
          ],
          "name": "stdout"
        }
      ]
    },
    {
      "metadata": {
        "id": "-jmAGKY5_x5G",
        "colab_type": "text"
      },
      "cell_type": "markdown",
      "source": [
        "# 2."
      ]
    },
    {
      "metadata": {
        "colab_type": "text",
        "id": "6kTWi1H6BIaq"
      },
      "cell_type": "markdown",
      "source": [
        "## construct a `pandas` DataFrame "
      ]
    },
    {
      "metadata": {
        "id": "X7gf58_b_zn3",
        "colab_type": "code",
        "colab": {
          "base_uri": "https://localhost:8080/",
          "height": 238
        },
        "outputId": "ad35879f-71c8-40bd-d400-a80b6baca6a1"
      },
      "cell_type": "code",
      "source": [
        "data = {'Weight': [92, 70, 58, 99, 55, 76, 62, 92, 71, 70, 77, 79],\n",
        "        'Exercise': [6, 6, 6, 2, 8, 4, 6, 6, 5, 6, 4, 4],\n",
        "        'Cholesterol': [4.8, 5.1, 6.4, 6.5, 2.3, 5.7, 4.2, 6.9, 4.8, 4.8, 7.7, 5.7],\n",
        "        'Income': [2060, 2660, 2530, 1740, 3520, 3750, 2720, 3130, 2100, 3340, 2430, 2700],\n",
        "        'Happiness': [49, 36, 49, 28, 77, 55, 43, 39, 54, 29, 53, 47],\n",
        "        'Birthyear': [1953, 1955, 1939, 1942, 1989, 1937, 1979, 1905, 1995, 1966, 1938, 1993]}\n",
        "df = pd.DataFrame(data)\n",
        "df.index += 1 \n",
        "print(df)"
      ],
      "execution_count": 2,
      "outputs": [
        {
          "output_type": "stream",
          "text": [
            "    Birthyear  Cholesterol  Exercise  Happiness  Income  Weight\n",
            "1        1953          4.8         6         49    2060      92\n",
            "2        1955          5.1         6         36    2660      70\n",
            "3        1939          6.4         6         49    2530      58\n",
            "4        1942          6.5         2         28    1740      99\n",
            "5        1989          2.3         8         77    3520      55\n",
            "6        1937          5.7         4         55    3750      76\n",
            "7        1979          4.2         6         43    2720      62\n",
            "8        1905          6.9         6         39    3130      92\n",
            "9        1995          4.8         5         54    2100      71\n",
            "10       1966          4.8         6         29    3340      70\n",
            "11       1938          7.7         4         53    2430      77\n",
            "12       1993          5.7         4         47    2700      79\n"
          ],
          "name": "stdout"
        }
      ]
    },
    {
      "metadata": {
        "id": "Hid-gvx3Eo4J",
        "colab_type": "text"
      },
      "cell_type": "markdown",
      "source": [
        "## basics statistics"
      ]
    },
    {
      "metadata": {
        "id": "TouvQX8YEsVR",
        "colab_type": "code",
        "colab": {
          "base_uri": "https://localhost:8080/",
          "height": 297
        },
        "outputId": "ffdf7e66-5993-4a86-ec94-37d74d3e6e57"
      },
      "cell_type": "code",
      "source": [
        "df.describe()"
      ],
      "execution_count": 3,
      "outputs": [
        {
          "output_type": "execute_result",
          "data": {
            "text/html": [
              "<div>\n",
              "<style scoped>\n",
              "    .dataframe tbody tr th:only-of-type {\n",
              "        vertical-align: middle;\n",
              "    }\n",
              "\n",
              "    .dataframe tbody tr th {\n",
              "        vertical-align: top;\n",
              "    }\n",
              "\n",
              "    .dataframe thead th {\n",
              "        text-align: right;\n",
              "    }\n",
              "</style>\n",
              "<table border=\"1\" class=\"dataframe\">\n",
              "  <thead>\n",
              "    <tr style=\"text-align: right;\">\n",
              "      <th></th>\n",
              "      <th>Birthyear</th>\n",
              "      <th>Cholesterol</th>\n",
              "      <th>Exercise</th>\n",
              "      <th>Happiness</th>\n",
              "      <th>Income</th>\n",
              "      <th>Weight</th>\n",
              "    </tr>\n",
              "  </thead>\n",
              "  <tbody>\n",
              "    <tr>\n",
              "      <th>count</th>\n",
              "      <td>12.000000</td>\n",
              "      <td>12.000000</td>\n",
              "      <td>12.000000</td>\n",
              "      <td>12.000000</td>\n",
              "      <td>12.000000</td>\n",
              "      <td>12.000000</td>\n",
              "    </tr>\n",
              "    <tr>\n",
              "      <th>mean</th>\n",
              "      <td>1957.583333</td>\n",
              "      <td>5.408333</td>\n",
              "      <td>5.250000</td>\n",
              "      <td>46.583333</td>\n",
              "      <td>2723.333333</td>\n",
              "      <td>75.083333</td>\n",
              "    </tr>\n",
              "    <tr>\n",
              "      <th>std</th>\n",
              "      <td>27.566311</td>\n",
              "      <td>1.419000</td>\n",
              "      <td>1.544786</td>\n",
              "      <td>13.283334</td>\n",
              "      <td>614.807188</td>\n",
              "      <td>13.813421</td>\n",
              "    </tr>\n",
              "    <tr>\n",
              "      <th>min</th>\n",
              "      <td>1905.000000</td>\n",
              "      <td>2.300000</td>\n",
              "      <td>2.000000</td>\n",
              "      <td>28.000000</td>\n",
              "      <td>1740.000000</td>\n",
              "      <td>55.000000</td>\n",
              "    </tr>\n",
              "    <tr>\n",
              "      <th>25%</th>\n",
              "      <td>1938.750000</td>\n",
              "      <td>4.800000</td>\n",
              "      <td>4.000000</td>\n",
              "      <td>38.250000</td>\n",
              "      <td>2347.500000</td>\n",
              "      <td>68.000000</td>\n",
              "    </tr>\n",
              "    <tr>\n",
              "      <th>50%</th>\n",
              "      <td>1954.000000</td>\n",
              "      <td>5.400000</td>\n",
              "      <td>6.000000</td>\n",
              "      <td>48.000000</td>\n",
              "      <td>2680.000000</td>\n",
              "      <td>73.500000</td>\n",
              "    </tr>\n",
              "    <tr>\n",
              "      <th>75%</th>\n",
              "      <td>1981.500000</td>\n",
              "      <td>6.425000</td>\n",
              "      <td>6.000000</td>\n",
              "      <td>53.250000</td>\n",
              "      <td>3182.500000</td>\n",
              "      <td>82.250000</td>\n",
              "    </tr>\n",
              "    <tr>\n",
              "      <th>max</th>\n",
              "      <td>1995.000000</td>\n",
              "      <td>7.700000</td>\n",
              "      <td>8.000000</td>\n",
              "      <td>77.000000</td>\n",
              "      <td>3750.000000</td>\n",
              "      <td>99.000000</td>\n",
              "    </tr>\n",
              "  </tbody>\n",
              "</table>\n",
              "</div>"
            ],
            "text/plain": [
              "         Birthyear  Cholesterol   Exercise  Happiness       Income     Weight\n",
              "count    12.000000    12.000000  12.000000  12.000000    12.000000  12.000000\n",
              "mean   1957.583333     5.408333   5.250000  46.583333  2723.333333  75.083333\n",
              "std      27.566311     1.419000   1.544786  13.283334   614.807188  13.813421\n",
              "min    1905.000000     2.300000   2.000000  28.000000  1740.000000  55.000000\n",
              "25%    1938.750000     4.800000   4.000000  38.250000  2347.500000  68.000000\n",
              "50%    1954.000000     5.400000   6.000000  48.000000  2680.000000  73.500000\n",
              "75%    1981.500000     6.425000   6.000000  53.250000  3182.500000  82.250000\n",
              "max    1995.000000     7.700000   8.000000  77.000000  3750.000000  99.000000"
            ]
          },
          "metadata": {
            "tags": []
          },
          "execution_count": 3
        }
      ]
    },
    {
      "metadata": {
        "id": "R-YATPBVGg9r",
        "colab_type": "text"
      },
      "cell_type": "markdown",
      "source": [
        "## above / below average income"
      ]
    },
    {
      "metadata": {
        "id": "4_N3LkOGE4bD",
        "colab_type": "code",
        "colab": {
          "base_uri": "https://localhost:8080/",
          "height": 221
        },
        "outputId": "e40815d2-e548-4170-c885-fd86d86bd222"
      },
      "cell_type": "code",
      "source": [
        "mean_income = df['Income'].mean()\n",
        "\n",
        "for index, row in df.iterrows():\n",
        "    print(f'Person {index}: {\"below\" if row[\"Income\"] < mean_income else \"above\"} average income.')"
      ],
      "execution_count": 4,
      "outputs": [
        {
          "output_type": "stream",
          "text": [
            "Person 1: below average income.\n",
            "Person 2: below average income.\n",
            "Person 3: below average income.\n",
            "Person 4: below average income.\n",
            "Person 5: above average income.\n",
            "Person 6: above average income.\n",
            "Person 7: below average income.\n",
            "Person 8: above average income.\n",
            "Person 9: below average income.\n",
            "Person 10: above average income.\n",
            "Person 11: below average income.\n",
            "Person 12: below average income.\n"
          ],
          "name": "stdout"
        }
      ]
    },
    {
      "metadata": {
        "id": "9Bko0UV__0Js",
        "colab_type": "text"
      },
      "cell_type": "markdown",
      "source": [
        "# 3. Chronic kidney disease dataset "
      ]
    },
    {
      "metadata": {
        "id": "_A2A9RMvIdPJ",
        "colab_type": "text"
      },
      "cell_type": "markdown",
      "source": [
        "## load data"
      ]
    },
    {
      "metadata": {
        "id": "TUdX8pWZ_3Iv",
        "colab_type": "code",
        "colab": {
          "resources": {
            "http://localhost:8080/nbextensions/google.colab/files.js": {
              "data": "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",
              "ok": true,
              "headers": [
                [
                  "content-type",
                  "application/javascript"
                ]
              ],
              "status": 200,
              "status_text": ""
            }
          },
          "base_uri": "https://localhost:8080/",
          "height": 89
        },
        "outputId": "1f550924-ce65-4b54-ae05-10e2c9f8bebc"
      },
      "cell_type": "code",
      "source": [
        "# upload kd.csv file to google colab\n",
        "from google.colab import files\n",
        "\n",
        "uploaded = files.upload()\n",
        "\n",
        "for fn in uploaded.keys():\n",
        "  print('User uploaded file \"{name}\" with length {length} bytes'.format(\n",
        "      name=fn, length=len(uploaded[fn])))"
      ],
      "execution_count": 5,
      "outputs": [
        {
          "output_type": "display_data",
          "data": {
            "text/html": [
              "\n",
              "     <input type=\"file\" id=\"files-1e12bc81-0531-43ff-a7f0-ca00e7b1dfab\" name=\"files[]\" multiple disabled />\n",
              "     <output id=\"result-1e12bc81-0531-43ff-a7f0-ca00e7b1dfab\">\n",
              "      Upload widget is only available when the cell has been executed in the\n",
              "      current browser session. Please rerun this cell to enable.\n",
              "      </output>\n",
              "      <script src=\"/nbextensions/google.colab/files.js\"></script> "
            ],
            "text/plain": [
              "<IPython.core.display.HTML object>"
            ]
          },
          "metadata": {
            "tags": []
          }
        },
        {
          "output_type": "stream",
          "text": [
            "Saving kd.csv to kd (1).csv\n",
            "User uploaded file \"kd.csv\" with length 43569 bytes\n"
          ],
          "name": "stdout"
        }
      ]
    },
    {
      "metadata": {
        "id": "lfN1HQ_eHOZF",
        "colab_type": "code",
        "colab": {
          "base_uri": "https://localhost:8080/",
          "height": 459
        },
        "outputId": "7a25164b-302d-486c-cdda-c3143e467950"
      },
      "cell_type": "code",
      "source": [
        "# import data\n",
        "df = pd.read_csv(\"kd.csv\", na_values=[\"?\"]) # missing values were encoded as '?'\n",
        "print(df.head().transpose())"
      ],
      "execution_count": 6,
      "outputs": [
        {
          "output_type": "stream",
          "text": [
            "                0           1           2           3           4\n",
            "age            48           7          62          48          51\n",
            "bp             80          50          80          70          80\n",
            "sg           1.02        1.02        1.01       1.005        1.01\n",
            "al              1           4           2           4           2\n",
            "su              0           0           3           0           0\n",
            "rbc           NaN         NaN      normal      normal      normal\n",
            "pc         normal      normal      normal    abnormal      normal\n",
            "pcc    notpresent  notpresent  notpresent     present  notpresent\n",
            "ba     notpresent  notpresent  notpresent  notpresent  notpresent\n",
            "bgr           121         NaN         423         117         106\n",
            "bu             36          18          53          56          26\n",
            "sc            1.2         0.8         1.8         3.8         1.4\n",
            "sod           NaN         NaN         NaN         111         NaN\n",
            "pot           NaN         NaN         NaN         2.5         NaN\n",
            "hemo         15.4        11.3         9.6        11.2        11.6\n",
            "pcv            44          38          31          32          35\n",
            "wbcc         7800        6000        7500        6700        7300\n",
            "rbcc          5.2         NaN         NaN         3.9         4.6\n",
            "htn           yes          no          no         yes          no\n",
            "dm            yes          no         yes          no          no\n",
            "cad            no          no          no          no          no\n",
            "appet        good        good        poor        poor        good\n",
            "pe             no          no          no         yes          no\n",
            "ane            no          no         yes         yes          no\n",
            "class         ckd         ckd         ckd         ckd         ckd\n"
          ],
          "name": "stdout"
        }
      ]
    },
    {
      "metadata": {
        "id": "OBYlSivwIgac",
        "colab_type": "text"
      },
      "cell_type": "markdown",
      "source": [
        "## basics statistics\n"
      ]
    },
    {
      "metadata": {
        "id": "Cg_pQO8cH5Ad",
        "colab_type": "code",
        "colab": {
          "base_uri": "https://localhost:8080/",
          "height": 297
        },
        "outputId": "65b0e9e7-fbeb-4b3e-f97c-aa72d384a6ca"
      },
      "cell_type": "code",
      "source": [
        "# filter affected patients\n",
        "affected_df = df[df['class'] == 'ckd']\n",
        "# basics statistics\n",
        "affected_df.describe()"
      ],
      "execution_count": 7,
      "outputs": [
        {
          "output_type": "execute_result",
          "data": {
            "text/html": [
              "<div>\n",
              "<style scoped>\n",
              "    .dataframe tbody tr th:only-of-type {\n",
              "        vertical-align: middle;\n",
              "    }\n",
              "\n",
              "    .dataframe tbody tr th {\n",
              "        vertical-align: top;\n",
              "    }\n",
              "\n",
              "    .dataframe thead th {\n",
              "        text-align: right;\n",
              "    }\n",
              "</style>\n",
              "<table border=\"1\" class=\"dataframe\">\n",
              "  <thead>\n",
              "    <tr style=\"text-align: right;\">\n",
              "      <th></th>\n",
              "      <th>age</th>\n",
              "      <th>bp</th>\n",
              "      <th>sg</th>\n",
              "      <th>al</th>\n",
              "      <th>su</th>\n",
              "      <th>bgr</th>\n",
              "      <th>bu</th>\n",
              "      <th>sc</th>\n",
              "      <th>sod</th>\n",
              "      <th>pot</th>\n",
              "      <th>hemo</th>\n",
              "    </tr>\n",
              "  </thead>\n",
              "  <tbody>\n",
              "    <tr>\n",
              "      <th>count</th>\n",
              "      <td>240.00000</td>\n",
              "      <td>238.000000</td>\n",
              "      <td>207.000000</td>\n",
              "      <td>208.000000</td>\n",
              "      <td>205.000000</td>\n",
              "      <td>210.000000</td>\n",
              "      <td>235.000000</td>\n",
              "      <td>236.000000</td>\n",
              "      <td>166.000000</td>\n",
              "      <td>165.000000</td>\n",
              "      <td>203.000000</td>\n",
              "    </tr>\n",
              "    <tr>\n",
              "      <th>mean</th>\n",
              "      <td>54.42500</td>\n",
              "      <td>79.705882</td>\n",
              "      <td>1.013937</td>\n",
              "      <td>1.721154</td>\n",
              "      <td>0.770732</td>\n",
              "      <td>175.523810</td>\n",
              "      <td>72.656170</td>\n",
              "      <td>4.430720</td>\n",
              "      <td>133.882530</td>\n",
              "      <td>4.883030</td>\n",
              "      <td>10.652217</td>\n",
              "    </tr>\n",
              "    <tr>\n",
              "      <th>std</th>\n",
              "      <td>17.41142</td>\n",
              "      <td>15.244756</td>\n",
              "      <td>0.004630</td>\n",
              "      <td>1.375821</td>\n",
              "      <td>1.350788</td>\n",
              "      <td>92.476413</td>\n",
              "      <td>58.722957</td>\n",
              "      <td>6.977209</td>\n",
              "      <td>12.461811</td>\n",
              "      <td>4.347562</td>\n",
              "      <td>2.190174</td>\n",
              "    </tr>\n",
              "    <tr>\n",
              "      <th>min</th>\n",
              "      <td>2.00000</td>\n",
              "      <td>50.000000</td>\n",
              "      <td>1.005000</td>\n",
              "      <td>0.000000</td>\n",
              "      <td>0.000000</td>\n",
              "      <td>22.000000</td>\n",
              "      <td>1.500000</td>\n",
              "      <td>0.500000</td>\n",
              "      <td>4.500000</td>\n",
              "      <td>2.500000</td>\n",
              "      <td>3.100000</td>\n",
              "    </tr>\n",
              "    <tr>\n",
              "      <th>25%</th>\n",
              "      <td>47.00000</td>\n",
              "      <td>70.000000</td>\n",
              "      <td>1.010000</td>\n",
              "      <td>0.000000</td>\n",
              "      <td>0.000000</td>\n",
              "      <td>106.250000</td>\n",
              "      <td>32.000000</td>\n",
              "      <td>1.400000</td>\n",
              "      <td>132.000000</td>\n",
              "      <td>3.800000</td>\n",
              "      <td>9.450000</td>\n",
              "    </tr>\n",
              "    <tr>\n",
              "      <th>50%</th>\n",
              "      <td>59.00000</td>\n",
              "      <td>80.000000</td>\n",
              "      <td>1.015000</td>\n",
              "      <td>2.000000</td>\n",
              "      <td>0.000000</td>\n",
              "      <td>143.500000</td>\n",
              "      <td>53.000000</td>\n",
              "      <td>2.250000</td>\n",
              "      <td>136.000000</td>\n",
              "      <td>4.300000</td>\n",
              "      <td>10.900000</td>\n",
              "    </tr>\n",
              "    <tr>\n",
              "      <th>75%</th>\n",
              "      <td>66.00000</td>\n",
              "      <td>90.000000</td>\n",
              "      <td>1.015000</td>\n",
              "      <td>3.000000</td>\n",
              "      <td>1.000000</td>\n",
              "      <td>219.750000</td>\n",
              "      <td>93.500000</td>\n",
              "      <td>4.600000</td>\n",
              "      <td>139.000000</td>\n",
              "      <td>4.900000</td>\n",
              "      <td>12.050000</td>\n",
              "    </tr>\n",
              "    <tr>\n",
              "      <th>max</th>\n",
              "      <td>90.00000</td>\n",
              "      <td>180.000000</td>\n",
              "      <td>1.025000</td>\n",
              "      <td>5.000000</td>\n",
              "      <td>5.000000</td>\n",
              "      <td>490.000000</td>\n",
              "      <td>391.000000</td>\n",
              "      <td>76.000000</td>\n",
              "      <td>163.000000</td>\n",
              "      <td>47.000000</td>\n",
              "      <td>16.100000</td>\n",
              "    </tr>\n",
              "  </tbody>\n",
              "</table>\n",
              "</div>"
            ],
            "text/plain": [
              "             age          bp          sg          al          su         bgr  \\\n",
              "count  240.00000  238.000000  207.000000  208.000000  205.000000  210.000000   \n",
              "mean    54.42500   79.705882    1.013937    1.721154    0.770732  175.523810   \n",
              "std     17.41142   15.244756    0.004630    1.375821    1.350788   92.476413   \n",
              "min      2.00000   50.000000    1.005000    0.000000    0.000000   22.000000   \n",
              "25%     47.00000   70.000000    1.010000    0.000000    0.000000  106.250000   \n",
              "50%     59.00000   80.000000    1.015000    2.000000    0.000000  143.500000   \n",
              "75%     66.00000   90.000000    1.015000    3.000000    1.000000  219.750000   \n",
              "max     90.00000  180.000000    1.025000    5.000000    5.000000  490.000000   \n",
              "\n",
              "               bu          sc         sod         pot        hemo  \n",
              "count  235.000000  236.000000  166.000000  165.000000  203.000000  \n",
              "mean    72.656170    4.430720  133.882530    4.883030   10.652217  \n",
              "std     58.722957    6.977209   12.461811    4.347562    2.190174  \n",
              "min      1.500000    0.500000    4.500000    2.500000    3.100000  \n",
              "25%     32.000000    1.400000  132.000000    3.800000    9.450000  \n",
              "50%     53.000000    2.250000  136.000000    4.300000   10.900000  \n",
              "75%     93.500000    4.600000  139.000000    4.900000   12.050000  \n",
              "max    391.000000   76.000000  163.000000   47.000000   16.100000  "
            ]
          },
          "metadata": {
            "tags": []
          },
          "execution_count": 7
        }
      ]
    },
    {
      "metadata": {
        "id": "sHSnpia8NOuQ",
        "colab_type": "text"
      },
      "cell_type": "markdown",
      "source": [
        "## correlation matrix"
      ]
    },
    {
      "metadata": {
        "id": "btaD5LwOL5PO",
        "colab_type": "code",
        "colab": {
          "base_uri": "https://localhost:8080/",
          "height": 390
        },
        "outputId": "7fe66634-ced3-47a5-f432-68df87e135c8"
      },
      "cell_type": "code",
      "source": [
        "# calculate correlation matrix\n",
        "correlations = affected_df.corr()\n",
        "correlations"
      ],
      "execution_count": 8,
      "outputs": [
        {
          "output_type": "execute_result",
          "data": {
            "text/html": [
              "<div>\n",
              "<style scoped>\n",
              "    .dataframe tbody tr th:only-of-type {\n",
              "        vertical-align: middle;\n",
              "    }\n",
              "\n",
              "    .dataframe tbody tr th {\n",
              "        vertical-align: top;\n",
              "    }\n",
              "\n",
              "    .dataframe thead th {\n",
              "        text-align: right;\n",
              "    }\n",
              "</style>\n",
              "<table border=\"1\" class=\"dataframe\">\n",
              "  <thead>\n",
              "    <tr style=\"text-align: right;\">\n",
              "      <th></th>\n",
              "      <th>age</th>\n",
              "      <th>bp</th>\n",
              "      <th>sg</th>\n",
              "      <th>al</th>\n",
              "      <th>su</th>\n",
              "      <th>bgr</th>\n",
              "      <th>bu</th>\n",
              "      <th>sc</th>\n",
              "      <th>sod</th>\n",
              "      <th>pot</th>\n",
              "      <th>hemo</th>\n",
              "    </tr>\n",
              "  </thead>\n",
              "  <tbody>\n",
              "    <tr>\n",
              "      <th>age</th>\n",
              "      <td>1.000000</td>\n",
              "      <td>0.144122</td>\n",
              "      <td>-0.048544</td>\n",
              "      <td>-0.020196</td>\n",
              "      <td>0.204776</td>\n",
              "      <td>0.160216</td>\n",
              "      <td>0.132041</td>\n",
              "      <td>0.079386</td>\n",
              "      <td>-0.026924</td>\n",
              "      <td>0.058805</td>\n",
              "      <td>-0.077130</td>\n",
              "    </tr>\n",
              "    <tr>\n",
              "      <th>bp</th>\n",
              "      <td>0.144122</td>\n",
              "      <td>1.000000</td>\n",
              "      <td>0.000183</td>\n",
              "      <td>-0.035352</td>\n",
              "      <td>0.141661</td>\n",
              "      <td>0.046097</td>\n",
              "      <td>0.098726</td>\n",
              "      <td>0.066857</td>\n",
              "      <td>0.020953</td>\n",
              "      <td>0.058271</td>\n",
              "      <td>-0.152156</td>\n",
              "    </tr>\n",
              "    <tr>\n",
              "      <th>sg</th>\n",
              "      <td>-0.048544</td>\n",
              "      <td>0.000183</td>\n",
              "      <td>1.000000</td>\n",
              "      <td>-0.015471</td>\n",
              "      <td>-0.084381</td>\n",
              "      <td>-0.078074</td>\n",
              "      <td>-0.079670</td>\n",
              "      <td>-0.134966</td>\n",
              "      <td>0.124610</td>\n",
              "      <td>-0.013684</td>\n",
              "      <td>0.079148</td>\n",
              "    </tr>\n",
              "    <tr>\n",
              "      <th>al</th>\n",
              "      <td>-0.020196</td>\n",
              "      <td>-0.035352</td>\n",
              "      <td>-0.015471</td>\n",
              "      <td>1.000000</td>\n",
              "      <td>0.074729</td>\n",
              "      <td>0.135475</td>\n",
              "      <td>0.314705</td>\n",
              "      <td>0.214615</td>\n",
              "      <td>-0.218827</td>\n",
              "      <td>0.094722</td>\n",
              "      <td>-0.299217</td>\n",
              "    </tr>\n",
              "    <tr>\n",
              "      <th>su</th>\n",
              "      <td>0.204776</td>\n",
              "      <td>0.141661</td>\n",
              "      <td>-0.084381</td>\n",
              "      <td>0.074729</td>\n",
              "      <td>1.000000</td>\n",
              "      <td>0.677268</td>\n",
              "      <td>0.045245</td>\n",
              "      <td>0.098650</td>\n",
              "      <td>0.096386</td>\n",
              "      <td>0.202059</td>\n",
              "      <td>0.105882</td>\n",
              "    </tr>\n",
              "    <tr>\n",
              "      <th>bgr</th>\n",
              "      <td>0.160216</td>\n",
              "      <td>0.046097</td>\n",
              "      <td>-0.078074</td>\n",
              "      <td>0.135475</td>\n",
              "      <td>0.677268</td>\n",
              "      <td>1.000000</td>\n",
              "      <td>-0.031664</td>\n",
              "      <td>-0.052850</td>\n",
              "      <td>-0.081869</td>\n",
              "      <td>0.029192</td>\n",
              "      <td>0.103096</td>\n",
              "    </tr>\n",
              "    <tr>\n",
              "      <th>bu</th>\n",
              "      <td>0.132041</td>\n",
              "      <td>0.098726</td>\n",
              "      <td>-0.079670</td>\n",
              "      <td>0.314705</td>\n",
              "      <td>0.045245</td>\n",
              "      <td>-0.031664</td>\n",
              "      <td>1.000000</td>\n",
              "      <td>0.542260</td>\n",
              "      <td>-0.191726</td>\n",
              "      <td>0.368048</td>\n",
              "      <td>-0.568305</td>\n",
              "    </tr>\n",
              "    <tr>\n",
              "      <th>sc</th>\n",
              "      <td>0.079386</td>\n",
              "      <td>0.066857</td>\n",
              "      <td>-0.134966</td>\n",
              "      <td>0.214615</td>\n",
              "      <td>0.098650</td>\n",
              "      <td>-0.052850</td>\n",
              "      <td>0.542260</td>\n",
              "      <td>1.000000</td>\n",
              "      <td>-0.679324</td>\n",
              "      <td>0.330104</td>\n",
              "      <td>-0.277334</td>\n",
              "    </tr>\n",
              "    <tr>\n",
              "      <th>sod</th>\n",
              "      <td>-0.026924</td>\n",
              "      <td>0.020953</td>\n",
              "      <td>0.124610</td>\n",
              "      <td>-0.218827</td>\n",
              "      <td>0.096386</td>\n",
              "      <td>-0.081869</td>\n",
              "      <td>-0.191726</td>\n",
              "      <td>-0.679324</td>\n",
              "      <td>1.000000</td>\n",
              "      <td>0.185381</td>\n",
              "      <td>0.126338</td>\n",
              "    </tr>\n",
              "    <tr>\n",
              "      <th>pot</th>\n",
              "      <td>0.058805</td>\n",
              "      <td>0.058271</td>\n",
              "      <td>-0.013684</td>\n",
              "      <td>0.094722</td>\n",
              "      <td>0.202059</td>\n",
              "      <td>0.029192</td>\n",
              "      <td>0.368048</td>\n",
              "      <td>0.330104</td>\n",
              "      <td>0.185381</td>\n",
              "      <td>1.000000</td>\n",
              "      <td>-0.159433</td>\n",
              "    </tr>\n",
              "    <tr>\n",
              "      <th>hemo</th>\n",
              "      <td>-0.077130</td>\n",
              "      <td>-0.152156</td>\n",
              "      <td>0.079148</td>\n",
              "      <td>-0.299217</td>\n",
              "      <td>0.105882</td>\n",
              "      <td>0.103096</td>\n",
              "      <td>-0.568305</td>\n",
              "      <td>-0.277334</td>\n",
              "      <td>0.126338</td>\n",
              "      <td>-0.159433</td>\n",
              "      <td>1.000000</td>\n",
              "    </tr>\n",
              "  </tbody>\n",
              "</table>\n",
              "</div>"
            ],
            "text/plain": [
              "           age        bp        sg        al        su       bgr        bu  \\\n",
              "age   1.000000  0.144122 -0.048544 -0.020196  0.204776  0.160216  0.132041   \n",
              "bp    0.144122  1.000000  0.000183 -0.035352  0.141661  0.046097  0.098726   \n",
              "sg   -0.048544  0.000183  1.000000 -0.015471 -0.084381 -0.078074 -0.079670   \n",
              "al   -0.020196 -0.035352 -0.015471  1.000000  0.074729  0.135475  0.314705   \n",
              "su    0.204776  0.141661 -0.084381  0.074729  1.000000  0.677268  0.045245   \n",
              "bgr   0.160216  0.046097 -0.078074  0.135475  0.677268  1.000000 -0.031664   \n",
              "bu    0.132041  0.098726 -0.079670  0.314705  0.045245 -0.031664  1.000000   \n",
              "sc    0.079386  0.066857 -0.134966  0.214615  0.098650 -0.052850  0.542260   \n",
              "sod  -0.026924  0.020953  0.124610 -0.218827  0.096386 -0.081869 -0.191726   \n",
              "pot   0.058805  0.058271 -0.013684  0.094722  0.202059  0.029192  0.368048   \n",
              "hemo -0.077130 -0.152156  0.079148 -0.299217  0.105882  0.103096 -0.568305   \n",
              "\n",
              "            sc       sod       pot      hemo  \n",
              "age   0.079386 -0.026924  0.058805 -0.077130  \n",
              "bp    0.066857  0.020953  0.058271 -0.152156  \n",
              "sg   -0.134966  0.124610 -0.013684  0.079148  \n",
              "al    0.214615 -0.218827  0.094722 -0.299217  \n",
              "su    0.098650  0.096386  0.202059  0.105882  \n",
              "bgr  -0.052850 -0.081869  0.029192  0.103096  \n",
              "bu    0.542260 -0.191726  0.368048 -0.568305  \n",
              "sc    1.000000 -0.679324  0.330104 -0.277334  \n",
              "sod  -0.679324  1.000000  0.185381  0.126338  \n",
              "pot   0.330104  0.185381  1.000000 -0.159433  \n",
              "hemo -0.277334  0.126338 -0.159433  1.000000  "
            ]
          },
          "metadata": {
            "tags": []
          },
          "execution_count": 8
        }
      ]
    },
    {
      "metadata": {
        "id": "dPvKzANAND1H",
        "colab_type": "code",
        "colab": {
          "base_uri": "https://localhost:8080/",
          "height": 592
        },
        "outputId": "5263db90-2663-4064-db05-4d6adb4ee404"
      },
      "cell_type": "code",
      "source": [
        "# plot correlation matrix\n",
        "import matplotlib.pyplot as plt\n",
        "import seaborn as sns\n",
        "%matplotlib inline  \n",
        "\n",
        "\n",
        "fig = plt.figure(figsize=(10, 10))\n",
        "sns.heatmap(correlations, vmin=-1, vmax=1)\n",
        "plt.show()"
      ],
      "execution_count": 9,
      "outputs": [
        {
          "output_type": "display_data",
          "data": {
            "image/png": "[encoded data removed]",
            "text/plain": [
              "<Figure size 720x720 with 2 Axes>"
            ]
          },
          "metadata": {
            "tags": []
          }
        }
      ]
    }
  ]
}